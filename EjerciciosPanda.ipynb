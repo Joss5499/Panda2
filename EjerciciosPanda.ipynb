{
  "nbformat": 4,
  "nbformat_minor": 0,
  "metadata": {
    "colab": {
      "provenance": [],
      "authorship_tag": "ABX9TyN348q8Ej0BDdltInwy2Frp",
      "include_colab_link": true
    },
    "kernelspec": {
      "name": "python3",
      "display_name": "Python 3"
    },
    "language_info": {
      "name": "python"
    }
  },
  "cells": [
    {
      "cell_type": "markdown",
      "metadata": {
        "id": "view-in-github",
        "colab_type": "text"
      },
      "source": [
        "<a href=\"https://colab.research.google.com/github/Joss5499/Panda2/blob/main/EjerciciosPanda.ipynb\" target=\"_parent\"><img src=\"https://colab.research.google.com/assets/colab-badge.svg\" alt=\"Open In Colab\"/></a>"
      ]
    },
    {
      "cell_type": "markdown",
      "source": [
        "Ejercicio 1\n",
        "Programa que pregunte al usuario por las ventas de un rango de años y luego muestre una serie con los datos de las ventas indexada por los años, antes y despues de aplicarles un descuento del 5%"
      ],
      "metadata": {
        "id": "1mejAqXbz2na"
      }
    },
    {
      "cell_type": "code",
      "execution_count": 4,
      "metadata": {
        "colab": {
          "base_uri": "https://localhost:8080/"
        },
        "id": "gcvzgVnIz2Mv",
        "outputId": "376dc0e8-2a98-420c-e62f-36682cb30fee"
      },
      "outputs": [
        {
          "output_type": "stream",
          "name": "stdout",
          "text": [
            "Ingrese el año de inicio: 2000\n",
            "Ingrese el año de fin: 2002\n",
            "Ingrese las ventas para el año 2000: 45\n",
            "Ingrese las ventas para el año 2001: 50\n",
            "Ingrese las ventas para el año 2002: 65\n",
            "\n",
            "Ventas antes y después del descuento:\n",
            "      Ventas  Ventas con 5% descuento\n",
            "2000    45.0                    42.75\n",
            "2001    50.0                    47.50\n",
            "2002    65.0                    61.75\n"
          ]
        }
      ],
      "source": [
        "import pandas as pd\n",
        "\n",
        "# Pedir año de inicio y año de fin\n",
        "anio_inicio = int(input(\"Ingrese el año de inicio: \"))\n",
        "anio_fin = int(input(\"Ingrese el año de fin: \"))\n",
        "\n",
        "# Crear lista de años en el rango\n",
        "años = list(range(anio_inicio, anio_fin + 1))\n",
        "\n",
        "ventas = []\n",
        "\n",
        "# Pedir ventas para cada año\n",
        "for año in años:\n",
        "    venta = float(input(f\"Ingrese las ventas para el año {año}: \"))\n",
        "    ventas.append(venta)\n",
        "\n",
        "# Crear la serie de ventas\n",
        "serie_ventas = pd.Series(ventas, index=años, name=\"Ventas\")\n",
        "\n",
        "# Aplicar descuento del 5%\n",
        "serie_descuento = serie_ventas * 0.95\n",
        "serie_descuento.name = \"Ventas con 5% descuento\"\n",
        "\n",
        "# Mostrar ambas en un cuadro (DataFrame)\n",
        "df = pd.concat([serie_ventas, serie_descuento], axis=1)\n",
        "print(\"\\nVentas antes y después del descuento:\")\n",
        "print(df)\n",
        "\n"
      ]
    },
    {
      "cell_type": "markdown",
      "source": [
        "Ejercicio 2\n"
      ],
      "metadata": {
        "id": "EC1Sd7tW5PNC"
      }
    },
    {
      "cell_type": "code",
      "source": [
        "import pandas as pd\n",
        "\n",
        "anio_limite = 2025\n",
        "\n",
        "anio_inicio = int(input(\"Ingrese el año de inicio: \"))\n",
        "\n",
        "# Ajustamos para que el primer año sea par (si no lo es, siguiente par)\n",
        "if anio_inicio % 2 != 0:\n",
        "    anio_inicio += 1\n",
        "\n",
        "# Generar años pares desde anio_inicio hasta anio_limite\n",
        "años_pares = [a for a in range(anio_inicio, anio_limite + 1, 2)]\n",
        "\n",
        "# Tomar máximo 10 años pares (los primeros 10 en este rango)\n",
        "ultimos_10_pares = años_pares[:10]\n",
        "\n",
        "ventas = []\n",
        "\n",
        "for año in ultimos_10_pares:\n",
        "    venta = float(input(f\"Ingrese las ventas para el año {año}: \"))\n",
        "    ventas.append(venta)\n",
        "\n",
        "serie_ventas = pd.Series(ventas, index=ultimos_10_pares, name=\"Ventas\")\n",
        "serie_descuento = serie_ventas * 0.95\n",
        "serie_descuento.name = \"Ventas con 5% descuento\"\n",
        "\n",
        "df = pd.concat([serie_ventas, serie_descuento], axis=1)\n",
        "\n",
        "print(\"\\nVentas antes y después del descuento:\")\n",
        "print(df)\n",
        "\n"
      ],
      "metadata": {
        "colab": {
          "base_uri": "https://localhost:8080/"
        },
        "collapsed": true,
        "id": "2eaQR-z45ROS",
        "outputId": "ffcc9aa8-0521-4296-83d6-e79c24f2e4eb"
      },
      "execution_count": 11,
      "outputs": [
        {
          "output_type": "stream",
          "name": "stdout",
          "text": [
            "Ingrese el año de inicio: 2000\n",
            "Ingrese las ventas para el año 2000: 3346\n",
            "Ingrese las ventas para el año 2002: 3246456\n",
            "Ingrese las ventas para el año 2004: 325345\n",
            "Ingrese las ventas para el año 2006: 3543\n",
            "Ingrese las ventas para el año 2008: 535\n",
            "Ingrese las ventas para el año 2010: 34646\n",
            "Ingrese las ventas para el año 2012: 34534\n",
            "Ingrese las ventas para el año 2014: 34636\n",
            "Ingrese las ventas para el año 2016: 3434\n",
            "Ingrese las ventas para el año 2018: 364\n",
            "\n",
            "Ventas antes y después del descuento:\n",
            "         Ventas  Ventas con 5% descuento\n",
            "2000     3346.0                  3178.70\n",
            "2002  3246456.0               3084133.20\n",
            "2004   325345.0                309077.75\n",
            "2006     3543.0                  3365.85\n",
            "2008      535.0                   508.25\n",
            "2010    34646.0                 32913.70\n",
            "2012    34534.0                 32807.30\n",
            "2014    34636.0                 32904.20\n",
            "2016     3434.0                  3262.30\n",
            "2018      364.0                   345.80\n"
          ]
        }
      ]
    },
    {
      "cell_type": "markdown",
      "source": [
        "Ejercicio 3\n",
        "calculo de las estadisticas basicas: media, mediana desviacion estandar - numpy para dataframe o la datatable"
      ],
      "metadata": {
        "id": "-0K2d-TdD4qI"
      }
    },
    {
      "cell_type": "code",
      "source": [
        "import pandas as pd\n",
        "import numpy as np\n",
        "\n",
        "data = {\n",
        "    'Nombre': ['Jose', 'Juan', 'Maria', 'Pedro'],\n",
        "    'Edad': [32, 45, 21, 20],\n",
        "    'Ciudad': ['Huancayo', 'Ica', 'Ayacucho', 'Arequipa']\n",
        "}\n",
        "\n",
        "df = pd.DataFrame(data)\n",
        "\n",
        "media = np.mean(df['Edad'])\n",
        "mediana = np.median(df['Edad'])\n",
        "desviacion = np.std(df['Edad'], ddof=1)\n",
        "max_edad = df['Edad'].max()\n",
        "min_edad = df['Edad'].min()\n",
        "\n",
        "print(f\"Media: {media}\")\n",
        "print(f\"Mediana: {mediana}\")\n",
        "print(f\"Desviación estándar: {desviacion}\")\n",
        "print(f\"Edad máxima: {max_edad}\")\n",
        "print(f\"Edad mínima: {min_edad}\")\n"
      ],
      "metadata": {
        "colab": {
          "base_uri": "https://localhost:8080/"
        },
        "id": "Zvq6bGN4EYJx",
        "outputId": "fb1bcbda-a41f-4358-829d-8cb4cb73dda3"
      },
      "execution_count": 16,
      "outputs": [
        {
          "output_type": "stream",
          "name": "stdout",
          "text": [
            "Media: 29.5\n",
            "Mediana: 26.5\n",
            "Desviación estándar: 11.67618659209133\n",
            "Edad máxima: 45\n",
            "Edad mínima: 20\n"
          ]
        }
      ]
    }
  ]
}
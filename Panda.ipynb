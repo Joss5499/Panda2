{
  "nbformat": 4,
  "nbformat_minor": 0,
  "metadata": {
    "colab": {
      "provenance": [],
      "authorship_tag": "ABX9TyOZbGGV3XlIgylBUH7q2oAA",
      "include_colab_link": true
    },
    "kernelspec": {
      "name": "python3",
      "display_name": "Python 3"
    },
    "language_info": {
      "name": "python"
    }
  },
  "cells": [
    {
      "cell_type": "markdown",
      "metadata": {
        "id": "view-in-github",
        "colab_type": "text"
      },
      "source": [
        "<a href=\"https://colab.research.google.com/github/Joss5499/Panda2/blob/main/Panda.ipynb\" target=\"_parent\"><img src=\"https://colab.research.google.com/assets/colab-badge.svg\" alt=\"Open In Colab\"/></a>"
      ]
    },
    {
      "cell_type": "markdown",
      "source": [
        "Trabajando con panda"
      ],
      "metadata": {
        "id": "Norrh1C8QW8A"
      }
    },
    {
      "cell_type": "code",
      "execution_count": 2,
      "metadata": {
        "id": "s8Jjvz2ZPikR"
      },
      "outputs": [],
      "source": [
        "#importar libreria\n",
        "import pandas as pd\n"
      ]
    },
    {
      "cell_type": "code",
      "source": [],
      "metadata": {
        "id": "nUwZg66QQ9D_"
      },
      "execution_count": null,
      "outputs": []
    },
    {
      "cell_type": "markdown",
      "source": [
        "Toma de contactos"
      ],
      "metadata": {
        "id": "ra2fs9vHRRxP"
      }
    },
    {
      "cell_type": "code",
      "source": [
        "import pandas as pd\n",
        "\n",
        "diccionario = [{'a':2,'b':4,'c':9}, {'a':16,'b':18,'c':20}]\n",
        "df = pd.DataFrame(diccionario)\n",
        "print(df)\n"
      ],
      "metadata": {
        "colab": {
          "base_uri": "https://localhost:8080/"
        },
        "id": "aEDaTST1RU1n",
        "outputId": "a0d17e12-55fa-4d6e-b8a0-780a002fedf1"
      },
      "execution_count": 3,
      "outputs": [
        {
          "output_type": "stream",
          "name": "stdout",
          "text": [
            "    a   b   c\n",
            "0   2   4   9\n",
            "1  16  18  20\n"
          ]
        }
      ]
    },
    {
      "cell_type": "markdown",
      "source": [
        "Series"
      ],
      "metadata": {
        "id": "nEfK1uDZVOrw"
      }
    },
    {
      "cell_type": "code",
      "source": [
        "#  crear series\n",
        "import pandas as pd\n",
        "\n",
        "serie = pd.Series([2, 6, 1, 8, 9, 2.3], index=['a', 'b', 'c', 'd', 'e', 'f'])\n",
        "print(serie)"
      ],
      "metadata": {
        "colab": {
          "base_uri": "https://localhost:8080/"
        },
        "id": "aDvGq_0YVIqp",
        "outputId": "5d12fe11-0f6a-42d7-ed46-9dac95f2c0e3"
      },
      "execution_count": 4,
      "outputs": [
        {
          "output_type": "stream",
          "name": "stdout",
          "text": [
            "a    2.0\n",
            "b    6.0\n",
            "c    1.0\n",
            "d    8.0\n",
            "e    9.0\n",
            "f    2.3\n",
            "dtype: float64\n"
          ]
        }
      ]
    },
    {
      "cell_type": "code",
      "source": [
        "# borrar series\n",
        "serie2 = serie.drop(['a','b'])\n",
        "print (serie2)"
      ],
      "metadata": {
        "colab": {
          "base_uri": "https://localhost:8080/"
        },
        "id": "cUlBYn3NWKHR",
        "outputId": "55f83eb2-6f39-4be6-e3e6-0f5f1c2c1a31"
      },
      "execution_count": 5,
      "outputs": [
        {
          "output_type": "stream",
          "name": "stdout",
          "text": [
            "c    1.0\n",
            "d    8.0\n",
            "e    9.0\n",
            "f    2.3\n",
            "dtype: float64\n"
          ]
        }
      ]
    },
    {
      "cell_type": "code",
      "source": [
        "#seleccionar filas o series\n",
        "serie [['d', 'e']]"
      ],
      "metadata": {
        "colab": {
          "base_uri": "https://localhost:8080/",
          "height": 147
        },
        "id": "lfUw0VdYWi5Z",
        "outputId": "509cb8df-e7bd-4783-8649-f4956440640e"
      },
      "execution_count": 6,
      "outputs": [
        {
          "output_type": "execute_result",
          "data": {
            "text/plain": [
              "d    8.0\n",
              "e    9.0\n",
              "dtype: float64"
            ],
            "text/html": [
              "<div>\n",
              "<style scoped>\n",
              "    .dataframe tbody tr th:only-of-type {\n",
              "        vertical-align: middle;\n",
              "    }\n",
              "\n",
              "    .dataframe tbody tr th {\n",
              "        vertical-align: top;\n",
              "    }\n",
              "\n",
              "    .dataframe thead th {\n",
              "        text-align: right;\n",
              "    }\n",
              "</style>\n",
              "<table border=\"1\" class=\"dataframe\">\n",
              "  <thead>\n",
              "    <tr style=\"text-align: right;\">\n",
              "      <th></th>\n",
              "      <th>0</th>\n",
              "    </tr>\n",
              "  </thead>\n",
              "  <tbody>\n",
              "    <tr>\n",
              "      <th>d</th>\n",
              "      <td>8.0</td>\n",
              "    </tr>\n",
              "    <tr>\n",
              "      <th>e</th>\n",
              "      <td>9.0</td>\n",
              "    </tr>\n",
              "  </tbody>\n",
              "</table>\n",
              "</div><br><label><b>dtype:</b> float64</label>"
            ]
          },
          "metadata": {},
          "execution_count": 6
        }
      ]
    },
    {
      "cell_type": "code",
      "source": [
        "#asignacion\n",
        "serie ['b'] = 100\n",
        "print(serie)"
      ],
      "metadata": {
        "colab": {
          "base_uri": "https://localhost:8080/"
        },
        "id": "uyypdkyFXFOg",
        "outputId": "87931b58-5b3e-4831-819e-b4b8aafeacfa"
      },
      "execution_count": 7,
      "outputs": [
        {
          "output_type": "stream",
          "name": "stdout",
          "text": [
            "a      2.0\n",
            "b    100.0\n",
            "c      1.0\n",
            "d      8.0\n",
            "e      9.0\n",
            "f      2.3\n",
            "dtype: float64\n"
          ]
        }
      ]
    },
    {
      "cell_type": "code",
      "source": [
        "#operadores\n",
        "serie4 = (serie + serie2)\n",
        "print (serie4)"
      ],
      "metadata": {
        "colab": {
          "base_uri": "https://localhost:8080/"
        },
        "id": "2idxtsv8XdZo",
        "outputId": "02762477-fbb4-4b6e-c6fd-bb66235f748e"
      },
      "execution_count": 8,
      "outputs": [
        {
          "output_type": "stream",
          "name": "stdout",
          "text": [
            "a     NaN\n",
            "b     NaN\n",
            "c     2.0\n",
            "d    16.0\n",
            "e    18.0\n",
            "f     4.6\n",
            "dtype: float64\n"
          ]
        }
      ]
    },
    {
      "cell_type": "code",
      "source": [
        "import pandas as pd\n",
        "\n",
        "# dos Series con los mismos índices\n",
        "serie1 = pd.Series([2, 4, 6, 8], index=['a', 'b', 'c', 'd'])\n",
        "serie2 = pd.Series([1, 3, 5, 7], index=['a', 'b', 'c', 'd'])\n",
        "\n",
        "# Multiplicación\n",
        "multiplicacion = serie1.mul(serie2)\n",
        "print(\"Multiplicación:\\n\", multiplicacion)\n",
        "\n",
        "# División\n",
        "division = serie1.div(serie2)\n",
        "print(\"\\nDivisión:\\n\", division)\n",
        "\n",
        "# Resta\n",
        "resta = serie1.sub(serie2)\n",
        "print(\"\\nResta:\\n\", resta)\n"
      ],
      "metadata": {
        "colab": {
          "base_uri": "https://localhost:8080/"
        },
        "id": "yWd4e9bkYAMw",
        "outputId": "bcca19cf-dc2a-47ae-c76b-0d42846d48b6"
      },
      "execution_count": 9,
      "outputs": [
        {
          "output_type": "stream",
          "name": "stdout",
          "text": [
            "Multiplicación:\n",
            " a     2\n",
            "b    12\n",
            "c    30\n",
            "d    56\n",
            "dtype: int64\n",
            "\n",
            "División:\n",
            " a    2.000000\n",
            "b    1.333333\n",
            "c    1.200000\n",
            "d    1.142857\n",
            "dtype: float64\n",
            "\n",
            "Resta:\n",
            " a    1\n",
            "b    1\n",
            "c    1\n",
            "d    1\n",
            "dtype: int64\n"
          ]
        }
      ]
    }
  ]
}